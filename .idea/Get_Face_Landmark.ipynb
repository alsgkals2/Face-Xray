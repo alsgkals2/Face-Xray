{
 "cells": [
  {
   "cell_type": "code",
   "execution_count": 1,
   "id": "03d1d414-1bed-46fc-8f74-74ebd4ee3d00",
   "metadata": {},
   "outputs": [],
   "source": [
    "import dlib\n",
    "import dlib\n",
    "import cv2\n",
    "from imutils import face_utils\n",
    "import argparse\n",
    "from utils import *\n",
    "import os\n",
    "import glob\n",
    "import torch"
   ]
  },
  {
   "cell_type": "code",
   "execution_count": 71,
   "id": "5c4a3494-d0c8-48d0-8453-f03c853ce13b",
   "metadata": {},
   "outputs": [],
   "source": [
    "DATAPATH = 'write you path'\n",
    "WALK = os.walk(DATAPATH)"
   ]
  },
  {
   "cell_type": "code",
   "execution_count": 6,
   "id": "612bebd0-7f68-43e0-8943-a3b4de131605",
   "metadata": {},
   "outputs": [],
   "source": [
    "list_path_fake = []\n",
    "for (a,b,c) in WALK:\n",
    "    for _c in c:\n",
    "        if '.jpg' in _c or '.png' in _c:\n",
    "            list_path_fake.append(os.path.join(a,_c))\n",
    "list_path_fake.sort()\n",
    "print(len(list_path_fake))"
   ]
  },
  {
   "cell_type": "code",
   "execution_count": 14,
   "id": "35cf7a40-e835-40ed-b20a-e6bbae89530c",
   "metadata": {},
   "outputs": [],
   "source": [
    "def parse_args():\n",
    "    desc = \"Data preprocessing for Deep3DRecon.\"\n",
    "    parser = argparse.ArgumentParser(description=desc)\n",
    "\n",
    "    parser.add_argument('--img_path', type=str, default='./input', help='original images folder')\n",
    "    parser.add_argument('--save_path', type=str, default='./processed_data', help='custom path to save proccessed images and labels')\n",
    "\n",
    "\n",
    "    return parser.parse_args()\n",
    "\n",
    "def midpoint(p1, p2):\n",
    "    coords = (p1[0] + p2[0]) / 2, (p1[1] + p2[1]) / 2\n",
    "    return [int(x) for x in coords]\n"
   ]
  },
  {
   "cell_type": "code",
   "execution_count": null,
   "id": "47aeae4e",
   "metadata": {},
   "outputs": [],
   "source": [
    "\n",
    "def preprocessing(list_path_fake, find_main_point = False):\n",
    "    dict_landmark = {}\n",
    "    img_list = list_path_fake\n",
    "\n",
    "    detector = dlib.get_frontal_face_detector()\n",
    "    predictor = dlib.shape_predictor('shape_predictor_68_face_landmarks.dat')\n",
    "\n",
    "    for file in img_list:\n",
    "        img = cv2.imread(file) #img must be cropped into face\n",
    "        gray = cv2.cvtColor(img, cv2.COLOR_BGR2GRAY)\n",
    "        rects = detector(gray, 0)\n",
    "\n",
    "        if len(rects) > 0:\n",
    "            for rect in rects:\n",
    "                if find_main_point:\n",
    "                    x = rect.left()\n",
    "                    y = rect.top()\n",
    "                    w = rect.right()\n",
    "                    h = rect.bottom()\n",
    "                    img = img[y:h, x:w]\n",
    "\n",
    "                shape = predictor(img, rect)\n",
    "                shape_np = face_utils.shape_to_np(shape).tolist()\n",
    "                if find_main_point:\n",
    "                    left_eye = midpoint(shape_np[36], shape_np[39])\n",
    "                    right_eye = midpoint(shape_np[42], shape_np[45])\n",
    "                    features = [left_eye, right_eye, shape_np[33], shape_np[48], shape_np[54]]\n",
    "                    dict_landmark[file] = features\n",
    "                else:\n",
    "                    dict_landmark[file] = shape_np\n",
    "    return dict_landmark\n"
   ]
  },
  {
   "cell_type": "code",
   "execution_count": null,
   "id": "ca4c3171",
   "metadata": {},
   "outputs": [],
   "source": []
  },
  {
   "cell_type": "markdown",
   "id": "91eb88af-dbc1-4ac1-ac5d-b0e9b3119a7b",
   "metadata": {},
   "source": [
    "# Get Landmarks"
   ]
  },
  {
   "cell_type": "code",
   "execution_count": null,
   "id": "0c174863-3f88-4301-80b7-f584adf2ad1b",
   "metadata": {
    "tags": []
   },
   "outputs": [],
   "source": [
    "dict_land = {}\n",
    "dict_land = preprocessing(list_path_fake)\n",
    "len(dict_land)"
   ]
  },
  {
   "cell_type": "markdown",
   "id": "91eb88af-dbc1-4ac1-ac5d-b0e9b3119a7b",
   "metadata": {},
   "source": [
    "# Translation DICT -> JSON "
   ]
  },
  {
   "cell_type": "code",
   "execution_count": 10,
   "id": "e627b943-7068-4b66-a9b0-bff930ebc13d",
   "metadata": {},
   "outputs": [],
   "source": [
    "import json\n",
    "with open('landmark_test.json','w', encoding='utf-8') as make_file:\n",
    "    json.dump(dict_land,make_file,indent='\\t')"
   ]
  },
  {
   "cell_type": "code",
   "execution_count": null,
   "id": "bb4dc591-249b-4b89-9a9d-2531bb818966",
   "metadata": {},
   "outputs": [],
   "source": [
    "import json\n",
    "with open('landmark_test.json', 'r') as f:\n",
    "    landmarks_record =  json.load(f)\n",
    "len(landmarks_record)"
   ]
  }
 ],
 "metadata": {
  "interpreter": {
   "hash": "bd3b2e7d7be3a0633476909b06ca133fa38571d80e6a5b0f2084ad3454bbb815"
  },
  "kernelspec": {
   "display_name": "gogogog",
   "language": "python",
   "name": "python3"
  },
  "language_info": {
   "codemirror_mode": {
    "name": "ipython",
    "version": 3
   },
   "file_extension": ".py",
   "mimetype": "text/x-python",
   "name": "python",
   "nbconvert_exporter": "python",
   "pygments_lexer": "ipython3",
   "version": "3.7.9"
  },
  "widgets": {
   "application/vnd.jupyter.widget-state+json": {
    "state": {},
    "version_major": 2,
    "version_minor": 0
   }
  }
 },
 "nbformat": 4,
 "nbformat_minor": 5
}
